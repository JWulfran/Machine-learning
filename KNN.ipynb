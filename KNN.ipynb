{
 "cells": [
  {
   "cell_type": "markdown",
   "id": "8132d048",
   "metadata": {},
   "source": [
    "# K plus proches voisins"
   ]
  },
  {
   "cell_type": "markdown",
   "id": "3416fc2f",
   "metadata": {},
   "source": [
    "L'algorithme des K plus proches voisins sert dans la classification et la régréssion, il classe les valeurs en fonction de leurs \"K\" voisin les plus proches. Cet algorithme est considérer comme paresseux car il réalise les calculs lors de la prédition c-à-d que pour prédire,  il calcule les distances avec les voisins et en fonction des voisins les plus proches, il fait une prédiction. Cela rends l'algorithme lent avec des données volumineuse.\n",
    "\n",
    "[Scikit-learn Nearest neighbors](\"https://scikit-learn.org/stable/modules/neighbors.html\")"
   ]
  },
  {
   "cell_type": "code",
   "execution_count": 2,
   "id": "4812b985",
   "metadata": {},
   "outputs": [],
   "source": [
    "import pandas as pd\n",
    "import numpy as np \n",
    "import matplotlib.pyplot as plt\n",
    "\n",
    "from sklearn.datasets import load_iris"
   ]
  },
  {
   "cell_type": "markdown",
   "id": "c62eb196",
   "metadata": {},
   "source": [
    "### 1. Trouver les plus proches voisins d'une observation"
   ]
  },
  {
   "cell_type": "code",
   "execution_count": 3,
   "id": "f0391aa8",
   "metadata": {},
   "outputs": [],
   "source": [
    "from sklearn.neighbors import NearestNeighbors\n",
    "from sklearn.preprocessing import StandardScaler"
   ]
  },
  {
   "cell_type": "markdown",
   "id": "4b1d6e8f",
   "metadata": {},
   "source": [
    "-   `dataset` contient les données Iris (150 fleurs, 4 caractéristiques : longueur/largeur des sépales et pétales).\n",
    "\n",
    "-   `features` est un tableau numpy de forme (150, 4) contenant uniquement les caractéristiques numériques (sans les noms ou les classes)."
   ]
  },
  {
   "cell_type": "code",
   "execution_count": 4,
   "id": "07f25780",
   "metadata": {},
   "outputs": [],
   "source": [
    "dataset = load_iris()\n",
    "features = dataset.data"
   ]
  },
  {
   "cell_type": "markdown",
   "id": "5782030b",
   "metadata": {},
   "source": [
    "-   `StandardScaler` transforme les données pour que chaque colonne ait une moyenne de 0 et un écart-type de 1.\n",
    "\n",
    "Ceci est important pour que les distances ne soient pas biaisées par des caractéristiques à grande échelle."
   ]
  },
  {
   "cell_type": "code",
   "execution_count": 5,
   "id": "713466b6",
   "metadata": {},
   "outputs": [],
   "source": [
    "Standardizer = StandardScaler()\n",
    "features_standardized = Standardizer.fit_transform(features)"
   ]
  },
  {
   "cell_type": "markdown",
   "id": "23a619a2",
   "metadata": {},
   "source": [
    "On crée un modèle NearestNeighbors avec `n_neighbors=5` : il va trouver les 5 points les plus proches pour toute observation.\n",
    "\n",
    "`.fit(features_standardized)` indique qu'on cherche ces voisins dans les données standardisées."
   ]
  },
  {
   "cell_type": "code",
   "execution_count": 6,
   "id": "27cd6884",
   "metadata": {},
   "outputs": [],
   "source": [
    "Nearest_neighbors = NearestNeighbors(n_neighbors=5).fit(features_standardized)"
   ]
  },
  {
   "cell_type": "markdown",
   "id": "b8c7521e",
   "metadata": {},
   "source": [
    "On crée un point fictif [1, 1, 1, 1] pour lequel on veut trouver les 5 fleurs les plus proches dans notre dataset."
   ]
  },
  {
   "cell_type": "code",
   "execution_count": 7,
   "id": "10421a35",
   "metadata": {},
   "outputs": [],
   "source": [
    "new_observation = np.array([[1, 1, 1, 1]])\n",
    "distances, indices = Nearest_neighbors.kneighbors(new_observation)"
   ]
  },
  {
   "cell_type": "code",
   "execution_count": 9,
   "id": "1c85f084",
   "metadata": {},
   "outputs": [
    {
     "data": {
      "text/plain": [
       "(1, 5, 4)"
      ]
     },
     "execution_count": 9,
     "metadata": {},
     "output_type": "execute_result"
    }
   ],
   "source": [
    "features_standardized[indices].shape"
   ]
  },
  {
   "cell_type": "code",
   "execution_count": null,
   "id": "0f987e7d",
   "metadata": {},
   "outputs": [
    {
     "data": {
      "text/plain": [
       "array([[0.49140089, 0.74294782, 0.75692864, 0.76371162, 0.84505638]])"
      ]
     },
     "execution_count": 26,
     "metadata": {},
     "output_type": "execute_result"
    }
   ],
   "source": [
    "distances"
   ]
  },
  {
   "cell_type": "markdown",
   "id": "c19961ff",
   "metadata": {},
   "source": [
    "Ce code :\n",
    "\n",
    "-   Charge les données Iris.\n",
    "\n",
    "-   Standardise les données.\n",
    "\n",
    "-   Entraîne un modèle pour chercher les 5 plus proches voisins.\n",
    "\n",
    "-   Donne un point fictif [1, 1, 1, 1] et cherche ses voisins dans les données.\n",
    "\n",
    "-   Retourne leurs distances et leurs positions dans le dataset."
   ]
  },
  {
   "cell_type": "code",
   "execution_count": null,
   "id": "d313404f",
   "metadata": {},
   "outputs": [],
   "source": []
  }
 ],
 "metadata": {
  "kernelspec": {
   "display_name": "env",
   "language": "python",
   "name": "python3"
  },
  "language_info": {
   "codemirror_mode": {
    "name": "ipython",
    "version": 3
   },
   "file_extension": ".py",
   "mimetype": "text/x-python",
   "name": "python",
   "nbconvert_exporter": "python",
   "pygments_lexer": "ipython3",
   "version": "3.12.4"
  }
 },
 "nbformat": 4,
 "nbformat_minor": 5
}
